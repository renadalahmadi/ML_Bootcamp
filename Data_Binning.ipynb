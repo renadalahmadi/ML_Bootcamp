{
  "nbformat": 4,
  "nbformat_minor": 0,
  "metadata": {
    "colab": {
      "name": "Data_Binning.ipynb",
      "provenance": [],
      "mount_file_id": "1G4llMnIsvL9JU9LMt_Fcavtpl9eAthVo",
      "authorship_tag": "ABX9TyOUoK7RKeIEDcv7tgt+aP3M",
      "include_colab_link": true
    },
    "kernelspec": {
      "name": "python3",
      "display_name": "Python 3"
    },
    "language_info": {
      "name": "python"
    }
  },
  "cells": [
    {
      "cell_type": "markdown",
      "metadata": {
        "id": "view-in-github",
        "colab_type": "text"
      },
      "source": [
        "<a href=\"https://colab.research.google.com/github/renadalahmadi/ML_Bootcamp/blob/main/Data_Binning.ipynb\" target=\"_parent\"><img src=\"https://colab.research.google.com/assets/colab-badge.svg\" alt=\"Open In Colab\"/></a>"
      ]
    },
    {
      "cell_type": "code",
      "metadata": {
        "id": "6RK_d61udIuK"
      },
      "source": [
        "import pandas as rData\n",
        "import numpy as np\n",
        "import matplotlib.pyplot as myPlot\n",
        "\n",
        "url = \"/content/drive/MyDrive/SA-COVID19v1.xlsx\"\n",
        "Data =  rData.read_excel(url , skipfooter= 29599)\n",
        "print(Data)"
      ],
      "execution_count": null,
      "outputs": []
    },
    {
      "cell_type": "code",
      "source": [
        "Data.drop([\"Daily / Cumulative\" , \"Date\"], axis= 1, inplace = True) "
      ],
      "metadata": {
        "id": "GPxSxHN2xR8O"
      },
      "execution_count": null,
      "outputs": []
    },
    {
      "cell_type": "code",
      "source": [
        "#checking missing values and replacing it\n",
        "Data[\"Cases\"].replace(\"?\", np.nan, inplace = True)\n",
        "\n",
        "# checking total value and replacing it\n",
        "Data[\"region\"].replace(\"Total\", np.nan, inplace = True)\n",
        "\n",
        "#dropping Nan values/Total\n",
        "Data.dropna(axis= 0 , inplace= True) "
      ],
      "metadata": {
        "id": "FKpk2q6LxfhZ"
      },
      "execution_count": null,
      "outputs": []
    },
    {
      "cell_type": "code",
      "source": [
        "# formatting \n",
        "Data[\"region\"].replace(\"Mecca\",\"Makkah Al-Mukarramah\", inplace= True)\n",
        "Data[\"region\"].replace(\"Medina\",\"Al Madina Al Monawara\", inplace= True)\n",
        "Data[\"region\"].replace(\"Riyadh\",\"Ar Riyadh\", inplace= True)\n",
        "Data[\"region\"].replace(\"Qassim\",\"Al Qassim\", inplace= True)"
      ],
      "metadata": {
        "id": "nPue1QNKxvH5"
      },
      "execution_count": null,
      "outputs": []
    },
    {
      "cell_type": "code",
      "source": [
        "Data[\"region\"].head(50)"
      ],
      "metadata": {
        "id": "ovxrKujXxy7Q"
      },
      "execution_count": null,
      "outputs": []
    },
    {
      "cell_type": "code",
      "source": [
        "# btotal binning \n",
        "bins = [1,49,99,500,1000]\n",
        "label = [\"Low\",\"Slightly high\",\"High\" , \"Very High\"]\n",
        "Data[\"BTotal\"] = rData.cut(Data[\"Cases\"], bins, labels=label, include_lowest = True)\n",
        "Data[\"BTotal\"]"
      ],
      "metadata": {
        "id": "8VOF47lt60ZA"
      },
      "execution_count": null,
      "outputs": []
    },
    {
      "cell_type": "code",
      "source": [
        "#Pie chart of no. of cases by regoin \n",
        "Data[\"Total\"] = Data[\"Cases\"].sum()\n",
        "Data.set_index('City', inplace = True)\n",
        "Data = Data.groupby('region', axis = 0).sum()\n",
        "print(Data)\n",
        "Data['Total'].plot(kind = \"pie\")\n",
        "myPlot.title(\"Number of cases by region\")\n",
        "myPlot.show()"
      ],
      "metadata": {
        "colab": {
          "base_uri": "https://localhost:8080/",
          "height": 424
        },
        "id": "02sKRb797bij",
        "outputId": "a6b7356b-30c9-43fb-e810-e3aec9d58b1c"
      },
      "execution_count": null,
      "outputs": [
        {
          "output_type": "stream",
          "name": "stdout",
          "text": [
            "                       Cases    Total\n",
            "region                               \n",
            "Al Madina Al Monawara   36.0   1242.0\n",
            "Al Qassim                2.0   1242.0\n",
            "Ar Riyadh               88.0   2484.0\n",
            "Asir                     4.0   1242.0\n",
            "Eastern Region          92.0   6831.0\n",
            "Makkah Al-Mukarramah   382.0  10557.0\n",
            "Najran                  17.0   1242.0\n"
          ]
        },
        {
          "output_type": "display_data",
          "data": {
            "image/png": "[encoded data removed]",
            "text/plain": [
              "<Figure size 432x288 with 1 Axes>"
            ]
          },
          "metadata": {}
        }
      ]
    }
  ]
}