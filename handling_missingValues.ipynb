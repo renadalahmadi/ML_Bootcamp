{
  "nbformat": 4,
  "nbformat_minor": 0,
  "metadata": {
    "colab": {
      "name": "handling_missingValues.ipynb",
      "provenance": [],
      "authorship_tag": "ABX9TyOD9h3stco8NAsNtaLnXm0A",
      "include_colab_link": true
    },
    "kernelspec": {
      "name": "python3",
      "display_name": "Python 3"
    },
    "language_info": {
      "name": "python"
    }
  },
  "cells": [
    {
      "cell_type": "markdown",
      "metadata": {
        "id": "view-in-github",
        "colab_type": "text"
      },
      "source": [
        "<a href=\"https://colab.research.google.com/github/renadalahmadi/ML_Bootcamp/blob/main/handling_missingValues.ipynb\" target=\"_parent\"><img src=\"https://colab.research.google.com/assets/colab-badge.svg\" alt=\"Open In Colab\"/></a>"
      ]
    },
    {
      "cell_type": "code",
      "source": [
        "import pandas as Data\n",
        "import numpy as np"
      ],
      "metadata": {
        "id": "RNRn7NytmDwx"
      },
      "execution_count": null,
      "outputs": []
    },
    {
      "cell_type": "code",
      "source": [
        "\n",
        "# Function to Real Dataset\n",
        "def read_file(url, file_type, Header_Data):\n",
        "  if (file_type == \"csv\" and Header_Data == False):\n",
        "    return Data.read_csv(url, header = None)\n",
        "\n",
        "# Reading Dataset\n",
        "Header = False\n",
        "url = \"https://archive.ics.uci.edu/ml/machine-learning-databases/autos/imports-85.data\"\n",
        "myData = read_file(url, \"csv\", Header)\n",
        "myData"
      ],
      "metadata": {
        "id": "JkE_4o3jmBiw"
      },
      "execution_count": null,
      "outputs": []
    },
    {
      "cell_type": "code",
      "execution_count": null,
      "metadata": {
        "id": "PiWzvr-NlJnH"
      },
      "outputs": [],
      "source": [
        "\n",
        "# Create Header for Dataset\n",
        "Header = [\"symboling\", \"normalized-losse\", \"make\", \"fuel-type\", \"aspiration\",\n",
        "          \"num-of-doors\", \"body-style\", \"drive-wheels\", \"engine-location\",\n",
        "          \"wheel-base\", \"length\", \"width\", \"height\", \"curb-weight\", \"engine-type\",\n",
        "          \"num-of-cylinders\", \"engine-size\", \"fuel-system\", \"bore\", \"stroke\", \"compression\",\n",
        "          \"horsepower\", \"peak - rpm\", \"city-mpg\", \"highway - mpg\", \"price\"]\n",
        "myData.columns = Header"
      ]
    },
    {
      "cell_type": "code",
      "source": [
        "print(myData.head(10))\n",
        "print(myData[\"normalized-losse\"].dtypes)"
      ],
      "metadata": {
        "id": "gadsHaI3qSiW"
      },
      "execution_count": null,
      "outputs": []
    },
    {
      "cell_type": "code",
      "source": [
        "myData[\"normalized-losse\"].replace(\"?\", np.nan, inplace = True)\n",
        "myData.dropna(subset=[\"normalized-losse\"], axis = 0, inplace = True)"
      ],
      "metadata": {
        "id": "U83TeCbjvHJy"
      },
      "execution_count": null,
      "outputs": []
    },
    {
      "cell_type": "code",
      "source": [
        "# changing col type func. to Replace with mean\n",
        "myData[\"normalized-losse\"] = myData[\"normalized-losse\"].astype(\"float64\")\n",
        "print(myData[\"normalized-losse\"].astype)\n",
        "mean = myData[\"ColumnName\"].mean() \n",
        "myData[\"ColumnName\"].replace(np.nan, mean)"
      ],
      "metadata": {
        "id": "i8Il3udDv668"
      },
      "execution_count": null,
      "outputs": []
    },
    {
      "cell_type": "code",
      "source": [
        "print(myData[\"fuel-type\"])\n",
        "print(Data.get_dummies(myData[\"fuel-type\"]))"
      ],
      "metadata": {
        "id": "Uu2uweTiQDN0"
      },
      "execution_count": null,
      "outputs": []
    }
  ]
}