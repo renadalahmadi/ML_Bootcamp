{
  "nbformat": 4,
  "nbformat_minor": 0,
  "metadata": {
    "colab": {
      "name": "Intro_Python.ipynb",
      "provenance": [],
      "authorship_tag": "ABX9TyN9VMne9mKPhVwZizMWFx2w",
      "include_colab_link": true
    },
    "kernelspec": {
      "name": "python3",
      "display_name": "Python 3"
    },
    "language_info": {
      "name": "python"
    }
  },
  "cells": [
    {
      "cell_type": "markdown",
      "metadata": {
        "id": "view-in-github",
        "colab_type": "text"
      },
      "source": [
        "<a href=\"https://colab.research.google.com/github/renadalahmadi/ML_Bootcamp/blob/main/Intro_Python.ipynb\" target=\"_parent\"><img src=\"https://colab.research.google.com/assets/colab-badge.svg\" alt=\"Open In Colab\"/></a>"
      ]
    },
    {
      "cell_type": "code",
      "source": [
        "#print statement \n",
        "print(\"Hello, World!\")"
      ],
      "metadata": {
        "id": "RBtoKrFdM5U8"
      },
      "execution_count": null,
      "outputs": []
    },
    {
      "cell_type": "code",
      "source": [
        "# correct Python indentation \n",
        "\n",
        "if 5 > 2:\n",
        " print(\"Five is greater than two!\") \n",
        "if 5 > 2:\n",
        "        print(\"Five is greater than two!\") "
      ],
      "metadata": {
        "id": "cnm0cAZdNeYa"
      },
      "execution_count": null,
      "outputs": []
    },
    {
      "cell_type": "markdown",
      "source": [
        "## Solve the exercise Below \n",
        "❌\n"
      ],
      "metadata": {
        "id": "diKxZ-G-X7Q5"
      }
    },
    {
      "cell_type": "code",
      "source": [
        "# wrong indentation FIND THE ERROR AND FIX IT \n",
        "if 5 > 2:\n",
        "print(\"Five is greater than two!\") \n",
        "\n",
        "if 5 > 2:\n",
        " print(\"Five is greater than two!\")\n",
        "   print(\"print anyway\")\n"
      ],
      "metadata": {
        "id": "2gc2L50qNuw0"
      },
      "execution_count": null,
      "outputs": []
    },
    {
      "cell_type": "code",
      "source": [
        "# variables \n",
        "x = 4       # x is of type int\n",
        "y = \"Sally\" # y is now of type str\n",
        "print(str(x)+ y)\n",
        "print(type(x)) # to check variable x type \n",
        "print(type(y)) # to check variable y type "
      ],
      "metadata": {
        "id": "H2rooXWlfNcV"
      },
      "execution_count": null,
      "outputs": []
    },
    {
      "cell_type": "code",
      "execution_count": null,
      "metadata": {
        "id": "DXg4uEm0Qaa7"
      },
      "outputs": [],
      "source": [
        "# Global Var\n",
        "x = \"awesome\"\n",
        "\n",
        "def myfunc():\n",
        "  x = \"fantastic\"\n",
        "  print(\"Python is \" + x)\n",
        "\n",
        "myfunc()\n",
        "print(\"Python is \" + x)"
      ]
    },
    {
      "cell_type": "code",
      "source": [
        "# Data collection \n",
        "# List\n",
        "# 1-list \n",
        "list0 = [\"apple\", \"banana\", \"cherry\"] # one type\n",
        "print(\"print the the whole list: \"+str(list0))\n",
        "print(\"the length of this list is: \"+str(len(list0)))\n",
        "\n",
        "# 2-list\n",
        "list1 = [\"abc\", 34, True, 40, \"male\"] # different Data types \n",
        "print(\"print the the whole list: \"+str(list1))\n",
        "\n",
        "thislist = [\"apple\", \"banana\", \"cherry\"]\n",
        "for i in range(len(thislist)):\n",
        "  print(thislist[i])\n"
      ],
      "metadata": {
        "id": "_ri14e9646tE"
      },
      "execution_count": null,
      "outputs": []
    },
    {
      "cell_type": "markdown",
      "source": [
        "\n",
        "## Solve the exercise Below \n",
        "❌\n"
      ],
      "metadata": {
        "id": "lBSWIl9yXfNt"
      }
    },
    {
      "cell_type": "code",
      "source": [
        "# printing list items using loop, run time error \n",
        "# FIND THE ERROR AND FIX IT\n",
        "count =0\n",
        "for x in list1:\n",
        "  count +=1\n",
        "  print(count+\" item :\"+x)"
      ],
      "metadata": {
        "id": "_1dsOJW0XJbk"
      },
      "execution_count": null,
      "outputs": []
    },
    {
      "cell_type": "code",
      "source": [
        "# Data collection \n",
        "# Tuple\n",
        "tuple1 = (\"apple\", \"banana\", \"cherry\")\n",
        "print(tuple1)\n",
        "\n",
        "IsThisTuple = (\"apple\")\n",
        "print(type(IsThisTuple))\n"
      ],
      "metadata": {
        "id": "ZqnmLPTrNkq0"
      },
      "execution_count": null,
      "outputs": []
    },
    {
      "cell_type": "code",
      "source": [
        "# Data collection \n",
        "# Set\n",
        "thisset = {\"apple\", \"banana\", \"cherry\", \"apple\"} # Duplicate values will be ignored (apple)\n",
        "print(thisset)"
      ],
      "metadata": {
        "id": "fgp3zJ1_Pg3m"
      },
      "execution_count": null,
      "outputs": []
    },
    {
      "cell_type": "code",
      "source": [
        "# Data collection \n",
        "# Dictionary \n",
        "thisdict = {\n",
        "  \"brand\": \"Ford\",\n",
        "  \"model\": \"Mustang\",\n",
        "  \"year\": 1964\n",
        "}\n",
        "print(thisdict)\n",
        "\n",
        "# print the vlaue using the key \n",
        "thisdict = {\n",
        "  \"brand\": \"Ford\",\n",
        "  \"model\": \"Mustang\",\n",
        "  \"year\": 1964\n",
        "}\n",
        "print(thisdict[\"brand\"])\n",
        "\n",
        "# list in dic \n",
        "thisdict = {\n",
        "  \"brand\": \"Ford\",\n",
        "  \"electric\": False,\n",
        "  \"year\": 1964,\n",
        "  \"colors\": [\"red\", \"white\", \"blue\"] #list of options for color \n",
        "}"
      ],
      "metadata": {
        "id": "6hWNFfpZQIgr"
      },
      "execution_count": null,
      "outputs": []
    },
    {
      "cell_type": "markdown",
      "source": [
        "\n",
        "## Solve the exercise Below \n",
        "❌"
      ],
      "metadata": {
        "id": "HUHCHxrCbX0U"
      }
    },
    {
      "cell_type": "code",
      "source": [
        "\n",
        "thisdict = {\n",
        "  \"brand\": \"Ford\",\n",
        "  \"model\": \"Mustang\",\n",
        "  \"year\": 1964\n",
        "}\n",
        "print(thisdict[\"Ford\"])"
      ],
      "metadata": {
        "id": "nOL2-uuvbHfb"
      },
      "execution_count": null,
      "outputs": []
    },
    {
      "cell_type": "code",
      "source": [
        "#if statement \n",
        "a = 200\n",
        "b = 33\n",
        "if b > a:\n",
        "  print(\"b is greater than a\")\n",
        "elif a == b:\n",
        "  print(\"a and b are equal\")\n",
        "else:\n",
        "  print(\"a is greater than b\")\n",
        "\n",
        "a = 200\n",
        "b = 33\n",
        "c = 500\n",
        "if a > b and c > a: # we can use and, or operation \n",
        "  print(\"Both conditions are True\")"
      ],
      "metadata": {
        "id": "zRkIJ6bqTvdF"
      },
      "execution_count": null,
      "outputs": []
    },
    {
      "cell_type": "code",
      "source": [
        "# while\n",
        "i = 1\n",
        "while i < 6:\n",
        "  print(i)\n",
        "  i += 1\n",
        " \n",
        " # Exit the loop when i is 3:\n",
        "i = 1\n",
        "while i < 6:\n",
        "  print(i)\n",
        "  if i == 3:\n",
        "    break\n",
        "  i += 1\n",
        "\n",
        "# using continue statement \n",
        "i = 0\n",
        "while i < 6:\n",
        "  i += 1\n",
        "  if i == 3: #skip number 3 \n",
        "    continue\n",
        "  print(i)"
      ],
      "metadata": {
        "id": "VGMs_uYtU8FB"
      },
      "execution_count": null,
      "outputs": []
    },
    {
      "cell_type": "code",
      "source": [
        "# for loop \n",
        "\n",
        "fruits = [\"apple\", \"banana\", \"cherry\"]\n",
        "for x in fruits:\n",
        "  print(x)\n",
        "  if x == \"banana\": # exist if x = banana \n",
        "    break\n",
        "\n",
        "# for loop using continue\n",
        "fruits = [\"apple\", \"banana\", \"cherry\"]\n",
        "for x in fruits:\n",
        "  if x == \"banana\":\n",
        "    continue       # skip banana \n",
        "  print(x)\n"
      ],
      "metadata": {
        "id": "DJgxlZwoWEla"
      },
      "execution_count": null,
      "outputs": []
    }
  ]
}